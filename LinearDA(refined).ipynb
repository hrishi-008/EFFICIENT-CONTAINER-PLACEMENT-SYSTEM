{
  "nbformat": 4,
  "nbformat_minor": 0,
  "metadata": {
    "colab": {
      "provenance": []
    },
    "kernelspec": {
      "name": "python3",
      "display_name": "Python 3"
    },
    "language_info": {
      "name": "python"
    }
  },
  "cells": [
    {
      "cell_type": "code",
      "source": [
        "import pandas as pd\n",
        "import numpy as np\n",
        "from sklearn.model_selection import train_test_split\n",
        "from sklearn.linear_model import LinearRegression\n",
        "from sklearn.metrics import mean_squared_error\n",
        "from datetime import datetime\n",
        "\n",
        "# Sample data as a DataFrame\n",
        "dataset = pd.read_excel('DAIICT Hackathon Data.xlsx', sheet_name='Past In and Out Container Data')\n",
        "\n",
        "df = pd.DataFrame(dataset)"
      ],
      "metadata": {
        "id": "aQR99vWQhh9z"
      },
      "execution_count": 11,
      "outputs": []
    },
    {
      "cell_type": "code",
      "execution_count": 13,
      "metadata": {
        "id": "aSatA8DJhQ3e"
      },
      "outputs": [],
      "source": [
        "\n",
        "\n",
        "# Convert datetime strings to datetime objects\n",
        "try:\n",
        "  df['IN_TIME'] = pd.to_datetime(df['IN_TIME'], format='%d-%m-%y %H:%M:%S')\n",
        "except ValueError:\n",
        "  df['IN_TIME'] = pd.to_datetime(df['IN_TIME'], format='%d-%m-%y %H:%M:%S.%f')\n",
        "\n",
        "try:\n",
        "  df['OUT_TIME'] = pd.to_datetime(df['OUT_TIME'], format='%d-%m-%y %H:%M:%S')\n",
        "except ValueError:\n",
        "  df['OUT_TIME'] = pd.to_datetime(df['OUT_TIME'], format='%d-%m-%y %H:%M:%S.%f')\n"
      ]
    },
    {
      "cell_type": "code",
      "source": [
        "# Convert STATUS to numerical values\n",
        "df['STATUS'] = df['STATUS'].map({'E': 0, 'L': 1})\n",
        "\n",
        "# Calculate the target variable (time difference)\n",
        "df['TIME_DIFF'] = (df['OUT_TIME'] - df['IN_TIME']).dt.total_seconds()\n",
        "\n",
        "# Separate input features and target variable\n",
        "X_datetime = df['IN_TIME'].values.astype(np.int64) // 10**9  # Convert datetime to Unix timestamp\n",
        "X_categorical = df['STATUS'].values\n",
        "y = df['TIME_DIFF'].values\n",
        "\n",
        "# Reshape input features if necessary\n",
        "X_datetime = X_datetime.reshape(-1, 1)\n",
        "X_categorical = X_categorical.reshape(-1, 1)\n",
        "\n",
        "# Concatenate the input features horizontally\n",
        "X = np.hstack((X_datetime, X_categorical))\n",
        "\n",
        "# Handle NaN values\n",
        "X = np.nan_to_num(X, nan=np.nanmean(X))  # Replace NaN with the mean value of the array\n",
        "\n",
        "# Split data into training and testing sets\n",
        "X_train, X_test, y_train, y_test = train_test_split(X, y, test_size=0.2, random_state=42)\n",
        "\n",
        "# Initialize and train the Linear Regression model\n",
        "model = LinearRegression()\n",
        "model.fit(X_train, y_train)\n",
        "\n",
        "# Predict using the trained model\n",
        "y_pred = model.predict(X_test)\n",
        "\n",
        "# Evaluate the model\n",
        "mse = mean_squared_error(y_test, y_pred)\n",
        "print(f\"Mean Squared Error: {mse}\")"
      ],
      "metadata": {
        "colab": {
          "base_uri": "https://localhost:8080/"
        },
        "id": "alLVJLR8kAB5",
        "outputId": "d88cc2ad-7835-4ea3-833c-d67cfac91852"
      },
      "execution_count": 14,
      "outputs": [
        {
          "output_type": "stream",
          "name": "stdout",
          "text": [
            "Mean Squared Error: 78022189005.652\n"
          ]
        }
      ]
    }
  ]
}